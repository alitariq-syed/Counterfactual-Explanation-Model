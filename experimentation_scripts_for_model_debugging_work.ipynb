{
 "cells": [
  {
   "cell_type": "code",
   "execution_count": 1,
   "metadata": {},
   "outputs": [],
   "source": [
    "#%run -i my_interpretable_CNN.py --help"
   ]
  },
  {
   "cell_type": "code",
   "execution_count": 2,
   "metadata": {},
   "outputs": [],
   "source": [
    "# for index in range(2):\n",
    "#     %run -i my_interpretable_CNN.py --alter_class=$index --cfe_epochs=1 --save_logFile=True\n",
    "#     #%reset -f\n",
    "#     %load_ext autoreload\n",
    "#     %autoreload 1"
   ]
  },
  {
   "cell_type": "code",
   "execution_count": 3,
   "metadata": {},
   "outputs": [],
   "source": [
    "# for index in range(2):\n",
    "#     %run -n my_interpretable_CNN.py --alter_class=$index --cfe_epochs=1 --save_logFile=True\n",
    "#     #%reset -f\n"
   ]
  },
  {
   "cell_type": "code",
   "execution_count": 4,
   "metadata": {},
   "outputs": [],
   "source": [
    "# %run -i my_interpretable_CNN.py --train_counterfactual_net True --find_global_filters False --counterfactual_PP True --resume True --alter_class 9 --cfe_epochs 1 --l1_weight 2 --save_directory \"./trained_weights/\" --save_logFile False"
   ]
  },
  {
   "cell_type": "code",
   "execution_count": 5,
   "metadata": {},
   "outputs": [],
   "source": [
    "# %run -i my_interpretable_CNN.py -h"
   ]
  },
  {
   "cell_type": "code",
   "execution_count": null,
   "metadata": {},
   "outputs": [
    {
     "name": "stdout",
     "output_type": "stream",
     "text": [
      "TF version:  2.6.0\n",
      "...GPU set_memory_growth successfully set...\n"
     ]
    },
    {
     "name": "stderr",
     "output_type": "stream",
     "text": [
      "C:\\Users\\Ali\\Anaconda3\\envs\\tf\\lib\\site-packages\\keras\\optimizer_v2\\optimizer_v2.py:355: UserWarning: The `lr` argument is deprecated, use `learning_rate` instead.\n",
      "  warnings.warn(\n"
     ]
    },
    {
     "name": "stdout",
     "output_type": "stream",
     "text": [
      "not saving log file\n",
      "save_path:  ./trained_weights/VGG16/CUB200/standard\n",
      "resuming training\n",
      "\n",
      " Namespace(create_counterfactual_combined=True, filter_visualization=True, user_evaluation=False, train_counterfactual_net=True, train_singular_counterfactual_net=False, choose_subclass=True, counterfactual_PP=True, resume_counterfactual_net=False, test_counterfactual_net=False, load_counterfactual_net=True, resume=True, alter_class=0, analysis_class=9, find_global_filters=False, alter_class_2=0, cfe_epochs=1, l1_weight=2.0, save_logFile=False, dataset='CUB200', save_directory='./trained_weights/', train_using_builtin_fit_method=True, train=False, fine_tune=False, test=False, model='VGG16/', imagenet_weights=True, save_path='./trained_weights/VGG16/CUB200/standard') \n",
      "\n",
      "batch_size:  16\n",
      "CUB200-2011 dataset\n",
      "using official split\n",
      "num classes: 200\n",
      "using imagenet_weights\n",
      "Found 27 images belonging to 1 classes.\n",
      "Found 3 images belonging to 1 classes.\n",
      "Found 27 images belonging to 1 classes.\n",
      "Found 3 images belonging to 1 classes.\n",
      "Found 30 images belonging to 1 classes.\n",
      "Found 30 images belonging to 1 classes.\n",
      "loading VGG model\n",
      "using VGG16 imagenet weights for CUB200 dataset\n",
      "input_1\n",
      "block1_conv1\n",
      "block1_conv2\n",
      "block1_pool\n",
      "block2_conv1\n",
      "block2_conv2\n",
      "block2_pool\n",
      "block3_conv1\n",
      "block3_conv2\n",
      "block3_conv3\n",
      "block3_pool\n",
      "block4_conv1\n",
      "block4_conv2\n",
      "block4_conv3\n",
      "block4_pool\n",
      "block5_conv1\n",
      "block5_conv2\n",
      "block5_conv3\n",
      "block5_pool\n",
      "block1_conv1 \t\t (None, 224, 224, 64)\n",
      "block1_conv2 \t\t (None, 224, 224, 64)\n",
      "block2_conv1 \t\t (None, 112, 112, 128)\n",
      "block2_conv2 \t\t (None, 112, 112, 128)\n",
      "block3_conv1 \t\t (None, 56, 56, 256)\n",
      "block3_conv2 \t\t (None, 56, 56, 256)\n",
      "block3_conv3 \t\t (None, 56, 56, 256)\n",
      "block4_conv1 \t\t (None, 28, 28, 512)\n",
      "block4_conv2 \t\t (None, 28, 28, 512)\n",
      "block4_conv3 \t\t (None, 28, 28, 512)\n",
      "block5_conv1 \t\t (None, 14, 14, 512)\n",
      "block5_conv2 \t\t (None, 14, 14, 512)\n",
      "block5_conv3 \t\t (None, 14, 14, 512)\n",
      "total neurons:  4224\n",
      "Model: \"base_model\"\n",
      "__________________________________________________________________________________________________\n",
      "Layer (type)                    Output Shape         Param #     Connected to                     \n",
      "==================================================================================================\n",
      "input_1 (InputLayer)            [(None, 224, 224, 3) 0                                            \n",
      "__________________________________________________________________________________________________\n",
      "block1_conv1 (Conv2D)           (None, 224, 224, 64) 1792        input_1[0][0]                    \n",
      "__________________________________________________________________________________________________\n",
      "block1_conv2 (Conv2D)           (None, 224, 224, 64) 36928       block1_conv1[0][0]               \n",
      "__________________________________________________________________________________________________\n",
      "block1_pool (MaxPooling2D)      (None, 112, 112, 64) 0           block1_conv2[0][0]               \n",
      "__________________________________________________________________________________________________\n",
      "block2_conv1 (Conv2D)           (None, 112, 112, 128 73856       block1_pool[0][0]                \n",
      "__________________________________________________________________________________________________\n",
      "block2_conv2 (Conv2D)           (None, 112, 112, 128 147584      block2_conv1[0][0]               \n",
      "__________________________________________________________________________________________________\n",
      "block2_pool (MaxPooling2D)      (None, 56, 56, 128)  0           block2_conv2[0][0]               \n",
      "__________________________________________________________________________________________________\n",
      "block3_conv1 (Conv2D)           (None, 56, 56, 256)  295168      block2_pool[0][0]                \n",
      "__________________________________________________________________________________________________\n",
      "block3_conv2 (Conv2D)           (None, 56, 56, 256)  590080      block3_conv1[0][0]               \n",
      "__________________________________________________________________________________________________\n",
      "block3_conv3 (Conv2D)           (None, 56, 56, 256)  590080      block3_conv2[0][0]               \n",
      "__________________________________________________________________________________________________\n",
      "block3_pool (MaxPooling2D)      (None, 28, 28, 256)  0           block3_conv3[0][0]               \n",
      "__________________________________________________________________________________________________\n",
      "block4_conv1 (Conv2D)           (None, 28, 28, 512)  1180160     block3_pool[0][0]                \n",
      "__________________________________________________________________________________________________\n",
      "block4_conv2 (Conv2D)           (None, 28, 28, 512)  2359808     block4_conv1[0][0]               \n",
      "__________________________________________________________________________________________________\n",
      "block4_conv3 (Conv2D)           (None, 28, 28, 512)  2359808     block4_conv2[0][0]               \n",
      "__________________________________________________________________________________________________\n",
      "block4_pool (MaxPooling2D)      (None, 14, 14, 512)  0           block4_conv3[0][0]               \n",
      "__________________________________________________________________________________________________\n",
      "block5_conv1 (Conv2D)           (None, 14, 14, 512)  2359808     block4_pool[0][0]                \n",
      "__________________________________________________________________________________________________\n",
      "block5_conv2 (Conv2D)           (None, 14, 14, 512)  2359808     block5_conv1[0][0]               \n",
      "__________________________________________________________________________________________________\n",
      "block5_conv3 (Conv2D)           (None, 14, 14, 512)  2359808     block5_conv2[0][0]               \n",
      "__________________________________________________________________________________________________\n",
      "max_pooling2d (MaxPooling2D)    (None, 7, 7, 512)    0           block5_conv3[0][0]               \n",
      "__________________________________________________________________________________________________\n",
      "global_average_pooling2d (Globa (None, 512)          0           max_pooling2d[0][0]              \n",
      "__________________________________________________________________________________________________\n",
      "input_2 (InputLayer)            [(None, 512)]        0                                            \n",
      "__________________________________________________________________________________________________\n",
      "tf.math.multiply (TFOpLambda)   (None, 512)          0           global_average_pooling2d[0][0]   \n",
      "                                                                 input_2[0][0]                    \n",
      "__________________________________________________________________________________________________\n",
      "dense (Dense)                   (None, 200)          102600      tf.math.multiply[0][0]           \n",
      "__________________________________________________________________________________________________\n",
      "activation (Activation)         (None, 200)          0           dense[0][0]                      \n",
      "==================================================================================================\n",
      "Total params: 14,817,288\n",
      "Trainable params: 102,600\n",
      "Non-trainable params: 14,714,688\n",
      "__________________________________________________________________________________________________\n",
      "weights loaded\n",
      "threshold:  0.5\n",
      "l1 weight:  2.0\n",
      "training CF model for alter class:  001.Black_footed_Albatross\n",
      "Training CF model for PPs\n",
      "training for alter class\n",
      "Model: \"model_1\"\n",
      "__________________________________________________________________________________________________\n",
      "Layer (type)                    Output Shape         Param #     Connected to                     \n",
      "==================================================================================================\n",
      "input_3 (InputLayer)            [(None, 224, 224, 3) 0                                            \n",
      "__________________________________________________________________________________________________\n",
      "counterfactual_model (Functiona (None, 512)          14977344    input_3[0][0]                    \n",
      "__________________________________________________________________________________________________\n",
      "base_model (Functional)         [(None, 200), (None, 14817288    input_3[0][0]                    \n",
      "                                                                 counterfactual_model[0][0]       \n",
      "==================================================================================================\n",
      "Total params: 15,079,944\n",
      "Trainable params: 262,656\n",
      "Non-trainable params: 14,817,288\n",
      "__________________________________________________________________________________________________\n"
     ]
    },
    {
     "name": "stdout",
     "output_type": "stream",
     "text": [
      "epoch 0: 100%|█████| 2/2 [00:23<00:00, 11.56s/it, acc=1, loss=[0.057955913, 6.004559, -0.3028679, 0.0, 251.03693, 0.0]]\n"
     ]
    }
   ],
   "source": [
    "from IPython import get_ipython\n",
    "import IPython\n",
    "\n",
    "for i in range(2):\n",
    "    %run -i my_interpretable_CNN.py --choose_subclass True --train_counterfactual_net True --find_global_filters False --counterfactual_PP True --resume True --alter_class $i --cfe_epochs 1 --l1_weight 2 --save_directory \"./trained_weights/\" --save_logFile False\n",
    "    IPython.Application.instance().kernel.do_shutdown(True)\n",
    "    %run -i my_interpretable_CNN.py --choose_subclass True --train_counterfactual_net True --find_global_filters False --counterfactual_PP True --resume True --alter_class 9 --cfe_epochs 1 --l1_weight 2 --save_directory \"./trained_weights/\" --save_logFile False"
   ]
  },
  {
   "cell_type": "code",
   "execution_count": 1,
   "metadata": {},
   "outputs": [],
   "source": [
    "import IPython"
   ]
  },
  {
   "cell_type": "code",
   "execution_count": 4,
   "metadata": {},
   "outputs": [
    {
     "ename": "AttributeError",
     "evalue": "'IPythonKernel' object has no attribute 'do'",
     "output_type": "error",
     "traceback": [
      "\u001b[1;31m---------------------------------------------------------------------------\u001b[0m",
      "\u001b[1;31mAttributeError\u001b[0m                            Traceback (most recent call last)",
      "\u001b[1;32m~\\AppData\\Local\\Temp\\ipykernel_28592\\338842669.py\u001b[0m in \u001b[0;36m<cell line: 1>\u001b[1;34m()\u001b[0m\n\u001b[1;32m----> 1\u001b[1;33m \u001b[0mIPython\u001b[0m\u001b[1;33m.\u001b[0m\u001b[0mApplication\u001b[0m\u001b[1;33m.\u001b[0m\u001b[0minstance\u001b[0m\u001b[1;33m(\u001b[0m\u001b[1;33m)\u001b[0m\u001b[1;33m.\u001b[0m\u001b[0mkernel\u001b[0m\u001b[1;33m.\u001b[0m\u001b[0mdo\u001b[0m\u001b[1;33m\u001b[0m\u001b[1;33m\u001b[0m\u001b[0m\n\u001b[0m",
      "\u001b[1;31mAttributeError\u001b[0m: 'IPythonKernel' object has no attribute 'do'"
     ]
    }
   ],
   "source": [
    "IPython.Application.instance().kernel.do"
   ]
  }
 ],
 "metadata": {
  "kernelspec": {
   "display_name": "Python 3 (ipykernel)",
   "language": "python",
   "name": "python3"
  },
  "language_info": {
   "codemirror_mode": {
    "name": "ipython",
    "version": 3
   },
   "file_extension": ".py",
   "mimetype": "text/x-python",
   "name": "python",
   "nbconvert_exporter": "python",
   "pygments_lexer": "ipython3",
   "version": "3.9.7"
  }
 },
 "nbformat": 4,
 "nbformat_minor": 4
}
